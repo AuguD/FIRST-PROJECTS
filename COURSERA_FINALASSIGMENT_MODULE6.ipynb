{
 "cells": [
  {
   "cell_type": "markdown",
   "id": "5b12cc5e-0bdf-4348-9a27-4b0f2ae8831b",
   "metadata": {},
   "source": [
    "# Coursera Exam Data Science Tools and Ecosystem "
   ]
  },
  {
   "cell_type": "markdown",
   "id": "c4c2ea3c-7d9b-4ec8-b253-9172cbc7f80b",
   "metadata": {},
   "source": [
    "## Introduction\n",
    "In this notebook, we will explore some of the tools, libraries, and languages commonly used in Data Science."
   ]
  },
  {
   "cell_type": "markdown",
   "id": "3b946635-5ff4-494a-9470-4fc988f58c12",
   "metadata": {},
   "source": [
    "## Data Science Languages\n",
    "Some of the popular languages that Data Scientists use are:\n",
    "- Python\n",
    "- R\n",
    "- SQL\n",
    "- Julia\n",
    "- Scala"
   ]
  },
  {
   "cell_type": "markdown",
   "id": "1c8c998f-f56e-4f90-9496-369d093c739f",
   "metadata": {},
   "source": [
    "## Data Science Libraries\n",
    "Some of the commonly used libraries in Data Science include:\n",
    "- Pandas\n",
    "- NumPy\n",
    "- Matplotlib\n",
    "- Scikit-learn\n",
    "- TensorFlow"
   ]
  },
  {
   "cell_type": "markdown",
   "id": "2fc671c6-fdc2-4cb7-99ff-15fb43c04916",
   "metadata": {},
   "source": [
    "## Data Science Tools\n",
    "| Tool | Description |\n",
    "|------------------|-------------------------------------------------------------|\n",
    "| Jupyter Notebook | An open-source web application for creating and sharing documents. |\n",
    "| RStudio          | An IDE for the R programming language.                      |\n",
    "| Apache Hadoop    | A framework that allows for the distributed processing of large data sets. |\n",
    "| Tableau          | A data visualization tool.                                  |\n",
    "| Apache Spark     | A unified analytics engine for large-scale data processing. |"
   ]
  },
  {
   "cell_type": "markdown",
   "id": "8880e1b2-9b1e-4ae3-b16b-4dc4f6c91130",
   "metadata": {},
   "source": [
    "## Arithmetic Expression Examples\n",
    "Below are examples of basic arithmetic operations, including addition and multiplication."
   ]
  },
  {
   "cell_type": "code",
   "execution_count": 30,
   "id": "906d3dc3-9993-41be-8dbb-f55ef0fc9903",
   "metadata": {},
   "outputs": [
    {
     "data": {
      "text/plain": [
       "22"
      ]
     },
     "execution_count": 30,
     "metadata": {},
     "output_type": "execute_result"
    }
   ],
   "source": [
    "# Multiply and add numbers\n",
    "result = (5 * 4) + 2\n",
    "result"
   ]
  },
  {
   "cell_type": "code",
   "execution_count": 32,
   "id": "942bfe20-d10e-4b8c-85aa-2d62a26ad722",
   "metadata": {},
   "outputs": [
    {
     "data": {
      "text/plain": [
       "2.5"
      ]
     },
     "execution_count": 32,
     "metadata": {},
     "output_type": "execute_result"
    }
   ],
   "source": [
    "# Convert minutes to hours\n",
    "minutes = 150\n",
    "hours = minutes / 60\n",
    "hours"
   ]
  },
  {
   "cell_type": "markdown",
   "id": "5792d704-f969-40e4-845e-bd3357898333",
   "metadata": {},
   "source": [
    "## Objectives\n",
    "- Understand the different languages used in Data Science.\n",
    "- Learn about the various libraries that are essential for Data Science.\n",
    "- Get familiar with some common Data Science tools.\n",
    "- Practice basic arithmetic operations in Python.\n",
    "- Convert units of time from minutes to hours."
   ]
  },
  {
   "cell_type": "markdown",
   "id": "1d27f3f0-fd8a-4295-9f59-182f4c294c7a",
   "metadata": {},
   "source": [
    "## Author\n",
    "Name: Augusto"
   ]
  },
  {
   "cell_type": "code",
   "execution_count": null,
   "id": "e433b397-7915-48a4-8675-8e644aa65773",
   "metadata": {},
   "outputs": [],
   "source": []
  }
 ],
 "metadata": {
  "kernelspec": {
   "display_name": "Python 3 (ipykernel)",
   "language": "python",
   "name": "python3"
  },
  "language_info": {
   "codemirror_mode": {
    "name": "ipython",
    "version": 3
   },
   "file_extension": ".py",
   "mimetype": "text/x-python",
   "name": "python",
   "nbconvert_exporter": "python",
   "pygments_lexer": "ipython3",
   "version": "3.11.7"
  }
 },
 "nbformat": 4,
 "nbformat_minor": 5
}
